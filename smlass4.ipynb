{
  "nbformat": 4,
  "nbformat_minor": 0,
  "metadata": {
    "colab": {
      "provenance": [],
      "authorship_tag": "ABX9TyMPrlSAQmlNahMPH0u2ri3j",
      "include_colab_link": true
    },
    "kernelspec": {
      "name": "python3",
      "display_name": "Python 3"
    },
    "language_info": {
      "name": "python"
    }
  },
  "cells": [
    {
      "cell_type": "markdown",
      "metadata": {
        "id": "view-in-github",
        "colab_type": "text"
      },
      "source": [
        "<a href=\"https://colab.research.google.com/github/2303A52378/AIML-lab/blob/main/smlass4.ipynb\" target=\"_parent\"><img src=\"https://colab.research.google.com/assets/colab-badge.svg\" alt=\"Open In Colab\"/></a>"
      ]
    },
    {
      "cell_type": "code",
      "source": [
        "from google.colab import drive\n",
        "drive.mount('/content/drive')"
      ],
      "metadata": {
        "colab": {
          "base_uri": "https://localhost:8080/"
        },
        "id": "cHEZ8dDYgNC4",
        "outputId": "2c4535c7-9477-4009-937e-5cb3f6b7bbae"
      },
      "execution_count": null,
      "outputs": [
        {
          "output_type": "stream",
          "name": "stdout",
          "text": [
            "Mounted at /content/drive\n"
          ]
        }
      ]
    },
    {
      "cell_type": "code",
      "source": [
        "import pandas as pd\n",
        "\n",
        "import numpy as np\n",
        "\n",
        "import matplotlib.pyplot as plt\n",
        "\n",
        "import seaborn as sns\n",
        "\n",
        "from sklearn.model_selection import train_test_split\n",
        "\n",
        "from sklearn.linear_model import LogisticRegression\n",
        "from sklearn.metrics import accuracy_score\n",
        "\n",
        "data=pd.read_csv('/content/train.csv')\n",
        "\n",
        "#print(data)\n",
        "\n",
        "columns=['battery_power', 'clock_speed', 'mobile_wt', 'talk_time', 'price_range']\n",
        "\n",
        "data=data.loc[:,columns]\n",
        "\n",
        "data.head()\n",
        "\n",
        "print(data)\n",
        "\n",
        "#data2-pd.read_csv('/content/drive/MyDrive/train.csv')\n",
        "\n",
        "#datal.head()"
      ],
      "metadata": {
        "colab": {
          "base_uri": "https://localhost:8080/"
        },
        "id": "GNp4elCcgPZ9",
        "outputId": "0f42212f-d7b8-4be1-d1b8-96022c0b843b"
      },
      "execution_count": null,
      "outputs": [
        {
          "output_type": "stream",
          "name": "stdout",
          "text": [
            "      battery_power  clock_speed  mobile_wt  talk_time  price_range\n",
            "0               842          2.2        188         19            1\n",
            "1              1021          0.5        136          7            2\n",
            "2               563          0.5        145          9            2\n",
            "3               615          2.5        131         11            2\n",
            "4              1821          1.2        141         15            1\n",
            "...             ...          ...        ...        ...          ...\n",
            "1995            794          0.5        106         19            0\n",
            "1996           1965          2.6        187         16            2\n",
            "1997           1911          0.9        108          5            3\n",
            "1998           1512          0.9        145         19            0\n",
            "1999            510          2.0        168          2            3\n",
            "\n",
            "[2000 rows x 5 columns]\n"
          ]
        }
      ]
    },
    {
      "cell_type": "code",
      "source": [
        "import numpy as np\n",
        "import matplotlib.pyplot as plt\n",
        "import seaborn as sns\n",
        "from sklearn.model_selection import train_test_split\n",
        "from sklearn.preprocessing import StandardScaler\n",
        "from sklearn.linear_model import LogisticRegression\n",
        "from sklearn.metrics import accuracy_score\n",
        "data = pd.read_csv('/content/train.csv')\n",
        "#print(data)\n",
        "columns=['battery_power','blue','clock_speed','dual_sim','fc']\n",
        "# Assuming 'price_range' is your target variable\n",
        "target_variable = 'price_range'\n",
        "X = data.loc[:, columns]\n",
        "y = data[target_variable]\n",
        "X.head()\n",
        "print(X)\n",
        "size_x= X.size # Use X instead of x\n",
        "size_y= y.size\n",
        "print(size_x)\n",
        "print(size_y)\n",
        "print(data.size)\n",
        "print('The shape of the data is:',data.shape)\n",
        "print('The X shape of the data is',X.shape)\n",
        "print('The type of the data',type(X))\n",
        "bool_series=pd.isnull(data.loc[:, columns])\n",
        "print(bool_series)\n",
        "print('The number of rows is:',data.shape[0])\n",
        "print('The number of columns is:',data.shape[1])\n",
        "X_train, X_test, y_train, y_test = train_test_split(X, y, test_size=0.2, random_state=0)\n",
        "print('X_train shape:', X_train)\n",
        "print('y_train shape:', y_train)\n",
        "print('X_test shape:', X_test)\n",
        "print('y_test shape:', y_test)"
      ],
      "metadata": {
        "colab": {
          "base_uri": "https://localhost:8080/"
        },
        "id": "oWGst83dhSmJ",
        "outputId": "a7056434-9cd3-4e90-a014-f1a6a888abca"
      },
      "execution_count": null,
      "outputs": [
        {
          "output_type": "stream",
          "name": "stdout",
          "text": [
            "      battery_power  blue  clock_speed  dual_sim  fc\n",
            "0               842     0          2.2         0   1\n",
            "1              1021     1          0.5         1   0\n",
            "2               563     1          0.5         1   2\n",
            "3               615     1          2.5         0   0\n",
            "4              1821     1          1.2         0  13\n",
            "...             ...   ...          ...       ...  ..\n",
            "1995            794     1          0.5         1   0\n",
            "1996           1965     1          2.6         1   0\n",
            "1997           1911     0          0.9         1   1\n",
            "1998           1512     0          0.9         0   4\n",
            "1999            510     1          2.0         1   5\n",
            "\n",
            "[2000 rows x 5 columns]\n",
            "10000\n",
            "2000\n",
            "42000\n",
            "The shape of the data is: (2000, 21)\n",
            "The X shape of the data is (2000, 5)\n",
            "The type of the data <class 'pandas.core.frame.DataFrame'>\n",
            "      battery_power   blue  clock_speed  dual_sim     fc\n",
            "0             False  False        False     False  False\n",
            "1             False  False        False     False  False\n",
            "2             False  False        False     False  False\n",
            "3             False  False        False     False  False\n",
            "4             False  False        False     False  False\n",
            "...             ...    ...          ...       ...    ...\n",
            "1995          False  False        False     False  False\n",
            "1996          False  False        False     False  False\n",
            "1997          False  False        False     False  False\n",
            "1998          False  False        False     False  False\n",
            "1999          False  False        False     False  False\n",
            "\n",
            "[2000 rows x 5 columns]\n",
            "The number of rows is: 2000\n",
            "The number of columns is: 21\n",
            "X_train shape:       battery_power  blue  clock_speed  dual_sim  fc\n",
            "582            1232     0          2.9         1   1\n",
            "159            1840     0          0.5         1  12\n",
            "1827           1692     0          2.1         0   4\n",
            "318             508     0          0.8         0   7\n",
            "708             977     1          2.8         1   2\n",
            "...             ...   ...          ...       ...  ..\n",
            "835            1224     1          1.6         0   9\n",
            "1216           1158     0          0.7         1   1\n",
            "1653           1190     0          2.0         1   0\n",
            "559            1191     0          2.4         1   2\n",
            "684             706     0          0.5         0  13\n",
            "\n",
            "[1600 rows x 5 columns]\n",
            "y_train shape: 582     0\n",
            "159     1\n",
            "1827    3\n",
            "318     0\n",
            "708     3\n",
            "       ..\n",
            "835     3\n",
            "1216    1\n",
            "1653    3\n",
            "559     0\n",
            "684     1\n",
            "Name: price_range, Length: 1600, dtype: int64\n",
            "X_test shape:       battery_power  blue  clock_speed  dual_sim  fc\n",
            "405            1454     1          0.5         1   1\n",
            "1190           1092     1          0.5         1  10\n",
            "1132           1524     1          1.8         1   0\n",
            "731            1807     1          2.1         0   2\n",
            "1754           1086     1          1.7         1   0\n",
            "...             ...   ...          ...       ...  ..\n",
            "638             955     0          0.5         1   4\n",
            "360             809     0          0.8         0  10\n",
            "1810            594     1          2.6         0   1\n",
            "1743           1673     1          1.6         0   2\n",
            "563            1290     0          0.5         0   0\n",
            "\n",
            "[400 rows x 5 columns]\n",
            "y_test shape: 405     3\n",
            "1190    0\n",
            "1132    2\n",
            "731     2\n",
            "1754    2\n",
            "       ..\n",
            "638     1\n",
            "360     1\n",
            "1810    0\n",
            "1743    2\n",
            "563     1\n",
            "Name: price_range, Length: 400, dtype: int64\n"
          ]
        }
      ]
    }
  ]
}